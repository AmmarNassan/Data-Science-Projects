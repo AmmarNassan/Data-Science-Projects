{
 "metadata": {
  "language_info": {
   "codemirror_mode": {
    "name": "ipython",
    "version": 3
   },
   "file_extension": ".py",
   "mimetype": "text/x-python",
   "name": "python",
   "nbconvert_exporter": "python",
   "pygments_lexer": "ipython3",
   "version": "3.8.6-final"
  },
  "orig_nbformat": 2,
  "kernelspec": {
   "name": "Python 3.8.6 64-bit",
   "display_name": "Python 3.8.6 64-bit",
   "metadata": {
    "interpreter": {
     "hash": "1baa965d5efe3ac65b79dfc60c0d706280b1da80fedb7760faf2759126c4f253"
    }
   }
  }
 },
 "nbformat": 4,
 "nbformat_minor": 2,
 "cells": [
  {
   "source": [
    "## Task #1: Understand the Problem Statement and business case"
   ],
   "cell_type": "markdown",
   "metadata": {}
  },
  {
   "cell_type": "code",
   "execution_count": null,
   "metadata": {},
   "outputs": [],
   "source": []
  },
  {
   "source": [
    "## Task #2: Import libraries "
   ],
   "cell_type": "markdown",
   "metadata": {}
  },
  {
   "source": [
    "import pandas as pd\n",
    "import numpy as np\n",
    "\n",
    "from matplotlib import pyplot as plt\n",
    "import seaborn as sns\n",
    "\n",
    "\n"
   ],
   "cell_type": "code",
   "metadata": {},
   "execution_count": null,
   "outputs": []
  },
  {
   "source": [
    "## Task #3: Import and peek at the dataset"
   ],
   "cell_type": "markdown",
   "metadata": {}
  },
  {
   "cell_type": "code",
   "execution_count": null,
   "metadata": {},
   "outputs": [],
   "source": [
    "df = pd.read_csv('data/googleplaystore.csv')\n",
    "print(\"Shape Dataset:\",df.shape)\n"
   ]
  },
  {
   "cell_type": "code",
   "execution_count": null,
   "metadata": {},
   "outputs": [],
   "source": [
    "df.info()"
   ]
  },
  {
   "source": [
    "## Task #4: Perform Exploratory Data Analysis"
   ],
   "cell_type": "markdown",
   "metadata": {}
  },
  {
   "cell_type": "code",
   "execution_count": null,
   "metadata": {},
   "outputs": [],
   "source": [
    "df.head(5)"
   ]
  },
  {
   "cell_type": "code",
   "execution_count": null,
   "metadata": {},
   "outputs": [],
   "source": []
  },
  {
   "cell_type": "code",
   "execution_count": null,
   "metadata": {},
   "outputs": [],
   "source": [
    "# Detect if there is duplication in App\n",
    "df1=df.groupby([\"App\"])[\"App\"].count().reset_index(name=\"count\")\n",
    "df1[(df1['count']>1)]\n"
   ]
  },
  {
   "cell_type": "code",
   "execution_count": null,
   "metadata": {},
   "outputs": [],
   "source": [
    "df[(df['App']=='10 Best Foods for You')]\n"
   ]
  },
  {
   "source": [
    "## Task #5: Perform data cleaning\n",
    " 1. Remove duplicates.\n",
    " 2. Drop the rows where all elements are missing.\n",
    " 3. Drop the rows where all elements are Outliers"
   ],
   "cell_type": "markdown",
   "metadata": {}
  },
  {
   "cell_type": "code",
   "execution_count": null,
   "metadata": {},
   "outputs": [],
   "source": [
    "# 1. To remove duplicates on specific column(s), use subset.\n",
    "df.drop_duplicates(subset='App', inplace=True)"
   ]
  },
  {
   "cell_type": "code",
   "execution_count": null,
   "metadata": {},
   "outputs": [],
   "source": [
    "# 2. Drop the rows where all elements are missing.\n",
    "df.isna().sum()"
   ]
  },
  {
   "cell_type": "code",
   "execution_count": null,
   "metadata": {},
   "outputs": [],
   "source": [
    "df.dropna(how='all')\n",
    "print(\"Shape Dataset:\",df.shape)"
   ]
  },
  {
   "cell_type": "code",
   "execution_count": null,
   "metadata": {},
   "outputs": [],
   "source": [
    "# 3. Drop the rows where all elements are Outliers.\n",
    "df = df[df['Installs'] != 'Free']"
   ]
  },
  {
   "source": [
    "## Task #6: Perform data preparation \n",
    " 1. Convert 'Installs' to float by Removing '+' and ',' to make it numeric.\n",
    " 2. Convert 'Sizes' to MB.\n",
    " 3. Convert 'Price' to float by Removing '$' to make it numeric.\n",
    " 4. Convert 'Reviews' to Int\n",
    "\n",
    " "
   ],
   "cell_type": "markdown",
   "metadata": {}
  },
  {
   "source": [
    "# 1.Convert 'Installs' to float\n",
    "df['Installs'] = df['Installs'].apply(lambda x: x.replace('+', '') if '+' in str(x) else x)\n",
    "df['Installs'] = df['Installs'].apply(lambda x: x.replace(',', '') if ',' in str(x) else x)\n",
    "df['Installs'] = df['Installs'].apply(lambda x: float(x))\n",
    "#to Check the Data Type in Pandas DataFrame\n",
    "print(df['Installs'].dtypes)\n"
   ],
   "cell_type": "code",
   "metadata": {},
   "execution_count": null,
   "outputs": []
  },
  {
   "source": [
    "#2. Convert 'Sizes' to MB.\n",
    "df['Size'] = df['Size'].apply(lambda x: str(x).replace('Varies with device', 'NaN') if 'Varies with device' in str(x) else x)\n",
    "df['Size'] = df['Size'].apply(lambda x: str(x).replace('M', '') if 'M' in str(x) else x)\n",
    "df['Size'] = df['Size'].apply(lambda x: str(x).replace(',', '') if 'M' in str(x) else x)\n",
    "df['Size'] = df['Size'].apply(lambda x: float(str(x).replace('k', '')) / 1024 if 'k' in str(x) else x)\n",
    "df['Size'] = df['Size'].apply(lambda x: float(x))\n",
    "\n",
    "#to Check the Data Type in Pandas DataFrame\n",
    "print(df['Size'].dtypes)"
   ],
   "cell_type": "code",
   "metadata": {},
   "execution_count": null,
   "outputs": []
  },
  {
   "cell_type": "code",
   "execution_count": null,
   "metadata": {},
   "outputs": [],
   "source": [
    "#3. Convert 'Price' to float.\n",
    "df['Price'] = df['Price'].apply(lambda x: str(x).replace('$', '') if '$' in str(x) else str(x))\n",
    "df['Price'] = df['Price'].apply(lambda x: float(x))\n",
    "#to Check the Data Type in Pandas DataFrame\n",
    "print(df['Price'].dtypes)"
   ]
  },
  {
   "source": [
    "#4. Convert 'Reviews' to Int.\n",
    "df['Reviews'] = df['Reviews'].apply(lambda x: int(x))\n",
    "#to Check the Data Type in Pandas DataFrame\n",
    "print(df['Reviews'].dtypes)"
   ],
   "cell_type": "code",
   "metadata": {},
   "execution_count": null,
   "outputs": []
  },
  {
   "cell_type": "code",
   "execution_count": null,
   "metadata": {},
   "outputs": [],
   "source": [
    "plt.figure(figsize=(10,8))\n",
    "sns.heatmap(df.corr(),cmap =\"YlGnBu\",annot=True, alpha=.8)"
   ]
  },
  {
   "cell_type": "code",
   "execution_count": null,
   "metadata": {},
   "outputs": [],
   "source": [
    "Rating = df['Rating'].dropna()\n",
    "Size = df['Size'].dropna()\n",
    "Installs = df['Installs'][df.Installs!=0].dropna()\n",
    "Reviews = df['Reviews'][df.Reviews!=0].dropna()\n",
    "Type = df['Type'].dropna()\n",
    "price = df['Price']\n",
    "\n",
    "#p = sns.pairplot(pd.DataFrame(list(zip(Rating, Size, np.log(Installs), np.log10(Reviews), Type, price)), columns=['Rating','Size', 'Installs', 'Reviews', 'Type', 'Price']), hue='Type', palette=\"tab10\")"
   ]
  },
  {
   "cell_type": "code",
   "execution_count": null,
   "metadata": {},
   "outputs": [],
   "source": []
  },
  {
   "cell_type": "code",
   "execution_count": 29,
   "metadata": {},
   "outputs": [
    {
     "output_type": "execute_result",
     "data": {
      "text/plain": [
       "               Category  per\n",
       "0                FAMILY  183\n",
       "1               MEDICAL   83\n",
       "2                  GAME   82\n",
       "3       PERSONALIZATION   81\n",
       "4                 TOOLS   78\n",
       "5   BOOKS_AND_REFERENCE   28\n",
       "6          PRODUCTIVITY   28\n",
       "7         COMMUNICATION   27\n",
       "8                SPORTS   24\n",
       "9             LIFESTYLE   19\n",
       "10          PHOTOGRAPHY   19\n",
       "11              FINANCE   17\n",
       "12   HEALTH_AND_FITNESS   15\n",
       "13     TRAVEL_AND_LOCAL   12\n",
       "14             BUSINESS   12\n",
       "15              WEATHER    8\n",
       "16               DATING    6\n",
       "17  MAPS_AND_NAVIGATION    5\n",
       "18        VIDEO_PLAYERS    4\n",
       "19            EDUCATION    4\n",
       "20               SOCIAL    3\n",
       "21       ART_AND_DESIGN    3\n",
       "22    AUTO_AND_VEHICLES    3\n",
       "23             SHOPPING    2\n",
       "24        ENTERTAINMENT    2\n",
       "25   NEWS_AND_MAGAZINES    2\n",
       "26            PARENTING    2\n",
       "27       FOOD_AND_DRINK    2\n",
       "28   LIBRARIES_AND_DEMO    1\n",
       "29               EVENTS    1"
      ],
      "text/html": "<div>\n<style scoped>\n    .dataframe tbody tr th:only-of-type {\n        vertical-align: middle;\n    }\n\n    .dataframe tbody tr th {\n        vertical-align: top;\n    }\n\n    .dataframe thead th {\n        text-align: right;\n    }\n</style>\n<table border=\"1\" class=\"dataframe\">\n  <thead>\n    <tr style=\"text-align: right;\">\n      <th></th>\n      <th>Category</th>\n      <th>per</th>\n    </tr>\n  </thead>\n  <tbody>\n    <tr>\n      <th>0</th>\n      <td>FAMILY</td>\n      <td>183</td>\n    </tr>\n    <tr>\n      <th>1</th>\n      <td>MEDICAL</td>\n      <td>83</td>\n    </tr>\n    <tr>\n      <th>2</th>\n      <td>GAME</td>\n      <td>82</td>\n    </tr>\n    <tr>\n      <th>3</th>\n      <td>PERSONALIZATION</td>\n      <td>81</td>\n    </tr>\n    <tr>\n      <th>4</th>\n      <td>TOOLS</td>\n      <td>78</td>\n    </tr>\n    <tr>\n      <th>5</th>\n      <td>BOOKS_AND_REFERENCE</td>\n      <td>28</td>\n    </tr>\n    <tr>\n      <th>6</th>\n      <td>PRODUCTIVITY</td>\n      <td>28</td>\n    </tr>\n    <tr>\n      <th>7</th>\n      <td>COMMUNICATION</td>\n      <td>27</td>\n    </tr>\n    <tr>\n      <th>8</th>\n      <td>SPORTS</td>\n      <td>24</td>\n    </tr>\n    <tr>\n      <th>9</th>\n      <td>LIFESTYLE</td>\n      <td>19</td>\n    </tr>\n    <tr>\n      <th>10</th>\n      <td>PHOTOGRAPHY</td>\n      <td>19</td>\n    </tr>\n    <tr>\n      <th>11</th>\n      <td>FINANCE</td>\n      <td>17</td>\n    </tr>\n    <tr>\n      <th>12</th>\n      <td>HEALTH_AND_FITNESS</td>\n      <td>15</td>\n    </tr>\n    <tr>\n      <th>13</th>\n      <td>TRAVEL_AND_LOCAL</td>\n      <td>12</td>\n    </tr>\n    <tr>\n      <th>14</th>\n      <td>BUSINESS</td>\n      <td>12</td>\n    </tr>\n    <tr>\n      <th>15</th>\n      <td>WEATHER</td>\n      <td>8</td>\n    </tr>\n    <tr>\n      <th>16</th>\n      <td>DATING</td>\n      <td>6</td>\n    </tr>\n    <tr>\n      <th>17</th>\n      <td>MAPS_AND_NAVIGATION</td>\n      <td>5</td>\n    </tr>\n    <tr>\n      <th>18</th>\n      <td>VIDEO_PLAYERS</td>\n      <td>4</td>\n    </tr>\n    <tr>\n      <th>19</th>\n      <td>EDUCATION</td>\n      <td>4</td>\n    </tr>\n    <tr>\n      <th>20</th>\n      <td>SOCIAL</td>\n      <td>3</td>\n    </tr>\n    <tr>\n      <th>21</th>\n      <td>ART_AND_DESIGN</td>\n      <td>3</td>\n    </tr>\n    <tr>\n      <th>22</th>\n      <td>AUTO_AND_VEHICLES</td>\n      <td>3</td>\n    </tr>\n    <tr>\n      <th>23</th>\n      <td>SHOPPING</td>\n      <td>2</td>\n    </tr>\n    <tr>\n      <th>24</th>\n      <td>ENTERTAINMENT</td>\n      <td>2</td>\n    </tr>\n    <tr>\n      <th>25</th>\n      <td>NEWS_AND_MAGAZINES</td>\n      <td>2</td>\n    </tr>\n    <tr>\n      <th>26</th>\n      <td>PARENTING</td>\n      <td>2</td>\n    </tr>\n    <tr>\n      <th>27</th>\n      <td>FOOD_AND_DRINK</td>\n      <td>2</td>\n    </tr>\n    <tr>\n      <th>28</th>\n      <td>LIBRARIES_AND_DEMO</td>\n      <td>1</td>\n    </tr>\n    <tr>\n      <th>29</th>\n      <td>EVENTS</td>\n      <td>1</td>\n    </tr>\n  </tbody>\n</table>\n</div>"
     },
     "metadata": {},
     "execution_count": 29
    }
   ],
   "source": [
    "db_Category_Free = df[df['Type']==\"Free\"]['Category'].value_counts().sort_values(ascending=False).reset_index()\n",
    "db_Category_Paid = df[df['Type']==\"Paid\"]['Category'].value_counts().sort_values(ascending=False).reset_index()\n",
    "\n",
    "df_suffix = pd.merge(db_Category_Free, db_Category_Paid, left_on='index',right_on='index',how='outer')\n",
    "df_suffix = df_suffix.rename(columns = {'index':'Category'})\n",
    "df_suffix = df_suffix.rename(columns = {'Category_x':'Free'})\n",
    "df_suffix = df_suffix.rename(columns = {'Category_y':'Paid'})\n",
    "\n",
    "#db_Category_Free['Type']=\"Free\"\n",
    "#db_Category_Paid['Type']=\"Paid\"\n",
    "#dff = [db_Category_Free, db_Category_Paid]\n",
    "#db_Category = pd.concat(dff)\n",
    "#db_Category = db_Category.rename(columns = {'Category':'Category_n'})\n",
    "#db_Category = db_Category.rename(columns = {'index':'Category'})\n",
    "\n",
    "#############db_Category_Paid.columns = ['Category','XXX']\n",
    "\n"
   ]
  },
  {
   "cell_type": "code",
   "execution_count": null,
   "metadata": {},
   "outputs": [],
   "source": [
    "fig, ax = plt.subplots(figsize=(20,7))\n",
    "ax.bar(df_suffix['Category'], df_suffix['Free'], 0.9,  label='Free', alpha=0.7)\n",
    "ax.bar(df_suffix['Category'], df_suffix['Paid'], 0.9,  bottom=df_suffix['Free'],label='Paid', alpha=0.7)\n",
    "\n",
    "ax.set_xticklabels(df_suffix['Category'],rotation=90,fontsize='11')\n",
    "\n",
    "ax.set_xlabel('',fontsize='17')\n",
    "ax.set_ylabel('',fontsize='25')\n",
    "ax.set_title('Category')\n",
    "ax.legend(loc=1, fontsize = '13')\n",
    "plt.show()"
   ]
  },
  {
   "cell_type": "code",
   "execution_count": null,
   "metadata": {},
   "outputs": [],
   "source": [
    "\n",
    "\n",
    "plt.figure(figsize=(11,4))\n",
    "ax = sns.boxplot(x = df[df['Type']==\"Free\"]['Category'], y = df['Rating'],  palette = 'Purples') #hue = df['Type']\n",
    "plt.title('Free', fontsize = 30)\n",
    "plt.setp(ax.get_xticklabels(), rotation=90)\n",
    "plt.show()\n",
    "\n",
    "plt.figure(figsize=(11,4))\n",
    "ax = sns.boxplot(x = df[df['Type']==\"Paid\"]['Category'], y = df['Rating'],  palette = 'Purples') #hue = df['Type']\n",
    "plt.title('Paid', fontsize = 30)\n",
    "plt.setp(ax.get_xticklabels(), rotation=90)\n",
    "plt.show()"
   ]
  },
  {
   "cell_type": "code",
   "execution_count": null,
   "metadata": {},
   "outputs": [],
   "source": [
    "g = sns.FacetGrid(df, col='Type')\n",
    "g.map(plt.hist, 'Rating', bins=5)"
   ]
  },
  {
   "cell_type": "code",
   "execution_count": null,
   "metadata": {},
   "outputs": [],
   "source": [
    "\n",
    "def Chart_D(x):\n",
    "    fig, ax = plt.subplots(figsize=(17,3))\n",
    "    ax.bar(x.iloc[:,0], x.iloc[:,1], 0.7,  label='Free', alpha=0.7)\n",
    "    ax.set_xticklabels(x['Category'],rotation=90,fontsize='11')\n",
    "    ax.set_xlabel('',fontsize='17')\n",
    "    ax.set_ylabel('',fontsize='25')\n",
    "    ax.set_title(\"Average rating of Apps - \"+ x.columns[1],fontsize='20')\n",
    "\n",
    "    for p in ax.patches:\n",
    "        x=p.get_bbox().get_points()[:,0]\n",
    "        y=p.get_bbox().get_points()[1,1]\n",
    "        ax.annotate('{:.2f}'.format(p.get_height()), (x.mean(), y), ha='center', va='bottom')\n",
    "    #plt.show()\n",
    "\n",
    "db_gr = df.groupby([\"Category\"])[\"Rating\"].mean().sort_values(ascending=False).reset_index()\n",
    "db_gr = db_gr.rename(columns = {'Rating':'All'})\n",
    "Chart_D(db_gr)\n",
    "\n",
    "db_grFree = df[df['Type']==\"Free\"].groupby([\"Category\"])[\"Rating\"].mean().sort_values(ascending=False).reset_index()\n",
    "db_grFree = db_grFree.rename(columns = {'Rating':'Free'})\n",
    "Chart_D(db_grFree)\n",
    "\n",
    "db_grPaid = df[df['Type']==\"Paid\"].groupby([\"Category\"])[\"Rating\"].mean().sort_values(ascending=False).reset_index()\n",
    "db_grPaid = db_grPaid.rename(columns = {'Rating':'Paid'})\n",
    "Chart_D(db_grPaid)\n",
    "\n",
    "\n",
    "df_gr10=df[df['Size']<10].groupby([\"Category\"])[\"Rating\"].mean().sort_values(ascending=False).reset_index()\n",
    "df_gr10 = df_gr10.rename(columns = {'Rating':'Size [less than 10MB]'})\n",
    "Chart_D(df_gr10)\n",
    "\n",
    "df_gr1050 = df[(df['Size']>=10) & (df['Size']<50)].groupby([\"Category\"])[\"Rating\"].mean().sort_values(ascending=False).reset_index()\n",
    "df_gr1050 = df_gr1050.rename(columns = {'Rating':'Size [10MB - 50MB] '})\n",
    "Chart_D(df_gr1050)\n",
    "\n",
    "df_gr50 = df[df['Size']>=50].groupby([\"Category\"])[\"Rating\"].mean().sort_values(ascending=False).reset_index()\n",
    "df_gr50 = df_gr50.rename(columns = {'Rating':'Size [larger than 50MB]'})\n",
    "Chart_D(df_gr50)\n",
    "\n"
   ]
  },
  {
   "cell_type": "code",
   "execution_count": null,
   "metadata": {},
   "outputs": [],
   "source": [
    "\n",
    "#df_Rating_Size = df[(df['Size']>=50) & (df['Rating']>4.5)]['Category'].value_counts().sort_values(ascending=False).reset_index()\n",
    "x1=len(df[(df['Size']>50) & (df['Rating']>4.5)])\n",
    "\n",
    "x2=len(df[(df['Size']<30) & (df['Size']<=50) & (df['Rating']>4.5)])\n",
    "\n",
    "x3=len(df[(df['Size']<10) & (df['Size']<=30) & (df['Rating']>4.5)])\n",
    "\n",
    "x4=len(df[(df['Size']<=10) & (df['Rating']>4.5)])\n",
    "print(x1)"
   ]
  },
  {
   "cell_type": "code",
   "execution_count": null,
   "metadata": {},
   "outputs": [],
   "source": [
    "\n",
    "sns.jointplot(data=df,x=df['Size'], y=df['Rating'], color=\"#1aa3dc\",hue=\"Type\", kind=\"kde\")\n",
    "\n",
    "\n",
    "sns.jointplot(x=df[df['Type']==\"Free\"]['Size'], y=df[df['Type']==\"Free\"]['Rating'], kind=\"hex\", color=\"#6EA3CC\")\n",
    "sns.jointplot(x=df[df['Type']==\"Paid\"]['Size'], y=df[df['Type']==\"Paid\"]['Rating'], kind=\"hex\", color=\"#FC8B29\")"
   ]
  },
  {
   "cell_type": "code",
   "execution_count": null,
   "metadata": {},
   "outputs": [],
   "source": [
    "sns.jointplot(x=df[(df['Type']==\"Paid\") & (df['Price']<50)]['Price'], y=df[(df['Type']==\"Paid\") & (df['Price']<50)]['Rating'], kind=\"hex\", color=\"#FC8B29\")\n",
    "\n"
   ]
  },
  {
   "cell_type": "code",
   "execution_count": null,
   "metadata": {},
   "outputs": [],
   "source": []
  }
 ]
}